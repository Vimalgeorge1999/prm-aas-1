{
 "cells": [
  {
   "cell_type": "code",
   "execution_count": 1,
   "id": "346bb610",
   "metadata": {},
   "outputs": [
    {
     "data": {
      "text/plain": [
       "['great', 'abc', 'hello', 'hiyo']"
      ]
     },
     "execution_count": 1,
     "metadata": {},
     "output_type": "execute_result"
    }
   ],
   "source": [
    "list=[\"great\",\"hello\",\"hiyo\",\"abc\"]\n",
    "def sort(list):\n",
    "    list.sort(key=lambda x:x[-2] )\n",
    "    return list\n",
    "sort(list)\n"
   ]
  }
 ],
 "metadata": {
  "kernelspec": {
   "display_name": "Python 3 (ipykernel)",
   "language": "python",
   "name": "python3"
  },
  "language_info": {
   "codemirror_mode": {
    "name": "ipython",
    "version": 3
   },
   "file_extension": ".py",
   "mimetype": "text/x-python",
   "name": "python",
   "nbconvert_exporter": "python",
   "pygments_lexer": "ipython3",
   "version": "3.9.13"
  }
 },
 "nbformat": 4,
 "nbformat_minor": 5
}
